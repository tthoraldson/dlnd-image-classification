{
 "cells": [
  {
   "cell_type": "markdown",
   "metadata": {
    "collapsed": true
   },
   "source": [
    "# Image Classification\n",
    "In this project, you'll classify images from the [CIFAR-10 dataset](https://www.cs.toronto.edu/~kriz/cifar.html).  The dataset consists of airplanes, dogs, cats, and other objects. You'll preprocess the images, then train a convolutional neural network on all the samples. The images need to be normalized and the labels need to be one-hot encoded.  You'll get to apply what you learned and build a convolutional, max pooling, dropout, and fully connected layers.  At the end, you'll get to see your neural network's predictions on the sample images.\n",
    "## Get the Data\n",
    "Run the following cell to download the [CIFAR-10 dataset for python](https://www.cs.toronto.edu/~kriz/cifar-10-python.tar.gz)."
   ]
  },
  {
   "cell_type": "code",
   "execution_count": 20,
   "metadata": {},
   "outputs": [
    {
     "name": "stdout",
     "output_type": "stream",
     "text": [
      "All files found!\n"
     ]
    }
   ],
   "source": [
    "\"\"\"\n",
    "DON'T MODIFY ANYTHING IN THIS CELL THAT IS BELOW THIS LINE\n",
    "\"\"\"\n",
    "import sklearn\n",
    "from urllib.request import urlretrieve\n",
    "from os.path import isfile, isdir\n",
    "from tqdm import tqdm\n",
    "import problem_unittests as tests\n",
    "import tarfile\n",
    "\n",
    "cifar10_dataset_folder_path = 'cifar-10-batches-py'\n",
    "\n",
    "# Use Floyd's cifar-10 dataset if present\n",
    "floyd_cifar10_location = '/input/cifar-10/python.tar.gz'\n",
    "if isfile(floyd_cifar10_location):\n",
    "    tar_gz_path = floyd_cifar10_location\n",
    "else:\n",
    "    tar_gz_path = 'cifar-10-python.tar.gz'\n",
    "\n",
    "class DLProgress(tqdm):\n",
    "    last_block = 0\n",
    "\n",
    "    def hook(self, block_num=1, block_size=1, total_size=None):\n",
    "        self.total = total_size\n",
    "        self.update((block_num - self.last_block) * block_size)\n",
    "        self.last_block = block_num\n",
    "\n",
    "if not isfile(tar_gz_path):\n",
    "    with DLProgress(unit='B', unit_scale=True, miniters=1, desc='CIFAR-10 Dataset') as pbar:\n",
    "        urlretrieve(\n",
    "            'https://www.cs.toronto.edu/~kriz/cifar-10-python.tar.gz',\n",
    "            tar_gz_path,\n",
    "            pbar.hook)\n",
    "\n",
    "if not isdir(cifar10_dataset_folder_path):\n",
    "    with tarfile.open(tar_gz_path) as tar:\n",
    "        tar.extractall()\n",
    "        tar.close()\n",
    "\n",
    "\n",
    "tests.test_folder_path(cifar10_dataset_folder_path)"
   ]
  },
  {
   "cell_type": "markdown",
   "metadata": {},
   "source": [
    "## Explore the Data\n",
    "The dataset is broken into batches to prevent your machine from running out of memory.  The CIFAR-10 dataset consists of 5 batches, named `data_batch_1`, `data_batch_2`, etc.. Each batch contains the labels and images that are one of the following:\n",
    "* airplane\n",
    "* automobile\n",
    "* bird\n",
    "* cat\n",
    "* deer\n",
    "* dog\n",
    "* frog\n",
    "* horse\n",
    "* ship\n",
    "* truck\n",
    "\n",
    "Understanding a dataset is part of making predictions on the data.  Play around with the code cell below by changing the `batch_id` and `sample_id`. The `batch_id` is the id for a batch (1-5). The `sample_id` is the id for a image and label pair in the batch.\n",
    "\n",
    "Ask yourself \"What are all possible labels?\", \"What is the range of values for the image data?\", \"Are the labels in order or random?\".  Answers to questions like these will help you preprocess the data and end up with better predictions."
   ]
  },
  {
   "cell_type": "code",
   "execution_count": 21,
   "metadata": {},
   "outputs": [
    {
     "name": "stdout",
     "output_type": "stream",
     "text": [
      "\n",
      "Stats of batch 3:\n",
      "Samples: 10000\n",
      "Label Counts: {0: 994, 1: 1042, 2: 965, 3: 997, 4: 990, 5: 1029, 6: 978, 7: 1015, 8: 961, 9: 1029}\n",
      "First 20 Labels: [8, 5, 0, 6, 9, 2, 8, 3, 6, 2, 7, 4, 6, 9, 0, 0, 7, 3, 7, 2]\n",
      "\n",
      "Example of Image 5:\n",
      "Image - Min Value: 9 Max Value: 255\n",
      "Image - Shape: (32, 32, 3)\n",
      "Label - Label Id: 2 Name: bird\n"
     ]
    },
    {
     "data": {
      "image/png": "[encoded data removed]",
      "text/plain": [
       "<matplotlib.figure.Figure at 0x13345c940>"
      ]
     },
     "metadata": {
      "image/png": {
       "height": 250,
       "width": 253
      }
     },
     "output_type": "display_data"
    }
   ],
   "source": [
    "%matplotlib inline\n",
    "%config InlineBackend.figure_format = 'retina'\n",
    "\n",
    "import helper\n",
    "import numpy as np\n",
    "\n",
    "# Explore the dataset\n",
    "batch_id = 3\n",
    "sample_id = 5\n",
    "helper.display_stats(cifar10_dataset_folder_path, batch_id, sample_id)"
   ]
  },
  {
   "cell_type": "markdown",
   "metadata": {},
   "source": [
    "## Implement Preprocess Functions\n",
    "### Normalize\n",
    "In the cell below, implement the `normalize` function to take in image data, `x`, and return it as a normalized Numpy array. The values should be in the range of 0 to 1, inclusive.  The return object should be the same shape as `x`."
   ]
  },
  {
   "cell_type": "code",
   "execution_count": 22,
   "metadata": {},
   "outputs": [
    {
     "name": "stdout",
     "output_type": "stream",
     "text": [
      "Tests Passed\n"
     ]
    }
   ],
   "source": [
    "def normalize(x):\n",
    "    \"\"\"\n",
    "    Normalize a list of sample image data in the range of 0 to 1\n",
    "    : x: List of image data.  The image shape is (32, 32, 3)\n",
    "    : return: Numpy array of normalize data\n",
    "    \"\"\"\n",
    "    # TODO: Implement Function\n",
    "    return x/np.max(x)\n",
    "    # ??? Why would we not use sklearn's normalize function?\n",
    "\n",
    "\"\"\"\n",
    "DON'T MODIFY ANYTHING IN THIS CELL THAT IS BELOW THIS LINE\n",
    "\"\"\"\n",
    "tests.test_normalize(normalize)"
   ]
  },
  {
   "cell_type": "markdown",
   "metadata": {},
   "source": [
    "### One-hot encode\n",
    "Just like the previous code cell, you'll be implementing a function for preprocessing.  This time, you'll implement the `one_hot_encode` function. The input, `x`, are a list of labels.  Implement the function to return the list of labels as One-Hot encoded Numpy array.  The possible values for labels are 0 to 9. The one-hot encoding function should return the same encoding for each value between each call to `one_hot_encode`.  Make sure to save the map of encodings outside the function.\n",
    "\n",
    "Hint: Don't reinvent the wheel."
   ]
  },
  {
   "cell_type": "code",
   "execution_count": 23,
   "metadata": {},
   "outputs": [
    {
     "name": "stdout",
     "output_type": "stream",
     "text": [
      "Tests Passed\n"
     ]
    }
   ],
   "source": [
    "temparray = []\n",
    "\n",
    "def one_hot_encode(x):\n",
    "    \"\"\"\n",
    "    One hot encode a list of sample labels. Return a one-hot encoded vector for each label.\n",
    "    : x: List of sample Labels\n",
    "    : return: Numpy array of one-hot encoded labels\n",
    "    \"\"\"\n",
    "    # TODO: Implement Function\n",
    "    tempArray = np.array(x)\n",
    "    encoder = sklearn.preprocessing.LabelBinarizer()\n",
    "    \n",
    "    # tell the model to have 10 labels (0-9)\n",
    "    encoder.fit(np.array([[0,0,0,0,0,0,0,0,0,0],[0,0,0,0,0,0,0,0,0,0]]))\n",
    "    return encoder.transform(tempArray)\n",
    "    # source used: https://discussions.udacity.com/t/one-hot-encoding-help/224505/26\n",
    "\n",
    "\"\"\"\n",
    "DON'T MODIFY ANYTHING IN THIS CELL THAT IS BELOW THIS LINE\n",
    "\"\"\"\n",
    "tests.test_one_hot_encode(one_hot_encode)"
   ]
  },
  {
   "cell_type": "markdown",
   "metadata": {},
   "source": [
    "### Randomize Data\n",
    "As you saw from exploring the data above, the order of the samples are randomized.  It doesn't hurt to randomize it again, but you don't need to for this dataset."
   ]
  },
  {
   "cell_type": "markdown",
   "metadata": {},
   "source": [
    "## Preprocess all the data and save it\n",
    "Running the code cell below will preprocess all the CIFAR-10 data and save it to file. The code below also uses 10% of the training data for validation."
   ]
  },
  {
   "cell_type": "code",
   "execution_count": 24,
   "metadata": {
    "collapsed": true
   },
   "outputs": [],
   "source": [
    "\"\"\"\n",
    "DON'T MODIFY ANYTHING IN THIS CELL\n",
    "\"\"\"\n",
    "# Preprocess Training, Validation, and Testing Data\n",
    "helper.preprocess_and_save_data(cifar10_dataset_folder_path, normalize, one_hot_encode)"
   ]
  },
  {
   "cell_type": "markdown",
   "metadata": {},
   "source": [
    "# Check Point\n",
    "This is your first checkpoint.  If you ever decide to come back to this notebook or have to restart the notebook, you can start from here.  The preprocessed data has been saved to disk."
   ]
  },
  {
   "cell_type": "code",
   "execution_count": 25,
   "metadata": {
    "collapsed": true
   },
   "outputs": [],
   "source": [
    "\"\"\"\n",
    "DON'T MODIFY ANYTHING IN THIS CELL\n",
    "\"\"\"\n",
    "import pickle\n",
    "import problem_unittests as tests\n",
    "import helper\n",
    "\n",
    "# Load the Preprocessed Validation data\n",
    "valid_features, valid_labels = pickle.load(open('preprocess_validation.p', mode='rb'))"
   ]
  },
  {
   "cell_type": "markdown",
   "metadata": {},
   "source": [
    "## Build the network\n",
    "For the neural network, you'll build each layer into a function.  Most of the code you've seen has been outside of functions. To test your code more thoroughly, we require that you put each layer in a function.  This allows us to give you better feedback and test for simple mistakes using our unittests before you submit your project.\n",
    "\n",
    ">**Note:** If you're finding it hard to dedicate enough time for this course each week, we've provided a small shortcut to this part of the project. In the next couple of problems, you'll have the option to use classes from the [TensorFlow Layers](https://www.tensorflow.org/api_docs/python/tf/layers) or [TensorFlow Layers (contrib)](https://www.tensorflow.org/api_guides/python/contrib.layers) packages to build each layer, except the layers you build in the \"Convolutional and Max Pooling Layer\" section.  TF Layers is similar to Keras's and TFLearn's abstraction to layers, so it's easy to pickup.\n",
    "\n",
    ">However, if you would like to get the most out of this course, try to solve all the problems _without_ using anything from the TF Layers packages. You **can** still use classes from other packages that happen to have the same name as ones you find in TF Layers! For example, instead of using the TF Layers version of the `conv2d` class, [tf.layers.conv2d](https://www.tensorflow.org/api_docs/python/tf/layers/conv2d), you would want to use the TF Neural Network version of `conv2d`, [tf.nn.conv2d](https://www.tensorflow.org/api_docs/python/tf/nn/conv2d). \n",
    "\n",
    "Let's begin!\n",
    "\n",
    "### Input\n",
    "The neural network needs to read the image data, one-hot encoded labels, and dropout keep probability. Implement the following functions\n",
    "* Implement `neural_net_image_input`\n",
    " * Return a [TF Placeholder](https://www.tensorflow.org/api_docs/python/tf/placeholder)\n",
    " * Set the shape using `image_shape` with batch size set to `None`.\n",
    " * Name the TensorFlow placeholder \"x\" using the TensorFlow `name` parameter in the [TF Placeholder](https://www.tensorflow.org/api_docs/python/tf/placeholder).\n",
    "* Implement `neural_net_label_input`\n",
    " * Return a [TF Placeholder](https://www.tensorflow.org/api_docs/python/tf/placeholder)\n",
    " * Set the shape using `n_classes` with batch size set to `None`.\n",
    " * Name the TensorFlow placeholder \"y\" using the TensorFlow `name` parameter in the [TF Placeholder](https://www.tensorflow.org/api_docs/python/tf/placeholder).\n",
    "* Implement `neural_net_keep_prob_input`\n",
    " * Return a [TF Placeholder](https://www.tensorflow.org/api_docs/python/tf/placeholder) for dropout keep probability.\n",
    " * Name the TensorFlow placeholder \"keep_prob\" using the TensorFlow `name` parameter in the [TF Placeholder](https://www.tensorflow.org/api_docs/python/tf/placeholder).\n",
    "\n",
    "These names will be used at the end of the project to load your saved model.\n",
    "\n",
    "Note: `None` for shapes in TensorFlow allow for a dynamic size."
   ]
  },
  {
   "cell_type": "code",
   "execution_count": 26,
   "metadata": {},
   "outputs": [
    {
     "name": "stdout",
     "output_type": "stream",
     "text": [
      "Image Input Tests Passed.\n",
      "Label Input Tests Passed.\n",
      "Keep Prob Tests Passed.\n"
     ]
    }
   ],
   "source": [
    "import tensorflow as tf\n",
    "\n",
    "def neural_net_image_input(image_shape):\n",
    "    \"\"\"\n",
    "    Return a Tensor for a batch of image input\n",
    "    : image_shape: Shape of the images\n",
    "    : return: Tensor for image input.\n",
    "    \"\"\"\n",
    "    # TODO: Implement Function\n",
    "    return tf.placeholder(tf.float32, [None, image_shape[0], image_shape[1], image_shape[2]], 'x')\n",
    "\n",
    "\n",
    "def neural_net_label_input(n_classes):\n",
    "    \"\"\"\n",
    "    Return a Tensor for a batch of label input\n",
    "    : n_classes: Number of classes\n",
    "    : return: Tensor for label input.\n",
    "    \"\"\"\n",
    "    # TODO: Implement Function\n",
    "    return tf.placeholder(tf.float32, [None, n_classes], 'y')\n",
    "\n",
    "\n",
    "def neural_net_keep_prob_input():\n",
    "    \"\"\"\n",
    "    Return a Tensor for keep probability\n",
    "    : return: Tensor for keep probability.\n",
    "    \"\"\"\n",
    "    # TODO: Implement Function\n",
    "    return tf.placeholder(tf.float32, None, 'keep_prob')\n",
    "\n",
    "\n",
    "\"\"\"\n",
    "DON'T MODIFY ANYTHING IN THIS CELL THAT IS BELOW THIS LINE\n",
    "\"\"\"\n",
    "tf.reset_default_graph()\n",
    "tests.test_nn_image_inputs(neural_net_image_input)\n",
    "tests.test_nn_label_inputs(neural_net_label_input)\n",
    "tests.test_nn_keep_prob_inputs(neural_net_keep_prob_input)"
   ]
  },
  {
   "cell_type": "markdown",
   "metadata": {},
   "source": [
    "### Convolution and Max Pooling Layer\n",
    "Convolution layers have a lot of success with images. For this code cell, you should implement the function `conv2d_maxpool` to apply convolution then max pooling:\n",
    "* Create the weight and bias using `conv_ksize`, `conv_num_outputs` and the shape of `x_tensor`.\n",
    "* Apply a convolution to `x_tensor` using weight and `conv_strides`.\n",
    " * We recommend you use same padding, but you're welcome to use any padding.\n",
    "* Add bias\n",
    "* Add a nonlinear activation to the convolution.\n",
    "* Apply Max Pooling using `pool_ksize` and `pool_strides`.\n",
    " * We recommend you use same padding, but you're welcome to use any padding.\n",
    "\n",
    "**Note:** You **can't** use [TensorFlow Layers](https://www.tensorflow.org/api_docs/python/tf/layers) or [TensorFlow Layers (contrib)](https://www.tensorflow.org/api_guides/python/contrib.layers) for **this** layer, but you can still use TensorFlow's [Neural Network](https://www.tensorflow.org/api_docs/python/tf/nn) package. You may still use the shortcut option for all the **other** layers."
   ]
  },
  {
   "cell_type": "code",
   "execution_count": 27,
   "metadata": {},
   "outputs": [
    {
     "name": "stdout",
     "output_type": "stream",
     "text": [
      "Tests Passed\n"
     ]
    }
   ],
   "source": [
    "def conv2d_maxpool(x_tensor, conv_num_outputs, conv_ksize, conv_strides, pool_ksize, pool_strides):\n",
    "    \"\"\"\n",
    "    Apply convolution then max pooling to x_tensor\n",
    "    :param x_tensor: TensorFlow Tensor\n",
    "    :param conv_num_outputs: Number of outputs for the convolutional layer\n",
    "    :param conv_ksize: kernal size 2-D Tuple for the convolutional layer\n",
    "    :param conv_strides: Stride 2-D Tuple for convolution\n",
    "    :param pool_ksize: kernal size 2-D Tuple for pool\n",
    "    :param pool_strides: Stride 2-D Tuple for pool\n",
    "    : return: A tensor that represents convolution and max pooling of x_tensor\n",
    "    \"\"\"\n",
    "    # TODO: Implement Function\n",
    "    # input depth\n",
    "    i_depth = x_tensor.get_shape()[3].value\n",
    "    \n",
    "    # image height, image width\n",
    "    i_height, i_width = conv_ksize\n",
    "    \n",
    "    # Filter weight and Filter Bias\n",
    "    F_W = tf.Variable(tf.truncated_normal((i_height, i_width, i_depth, conv_num_outputs), stddev=0.1))\n",
    "    \n",
    "    F_b = tf.Variable(tf.zeros(conv_num_outputs))\n",
    "    \n",
    "    # kernel size\n",
    "    c_height, c_width = conv_strides\n",
    "    \n",
    "    # convolution\n",
    "    layer = tf.nn.conv2d(\n",
    "        x_tensor,\n",
    "        F_W,\n",
    "        strides=[1, c_height, c_width, 1],\n",
    "        padding='SAME',\n",
    "        use_cudnn_on_gpu=None,\n",
    "        data_format=None,\n",
    "        name=None\n",
    "        )\n",
    "    \n",
    "    # add bias\n",
    "    layer = tf.nn.bias_add(layer, F_b)\n",
    "    layer  = tf.nn.relu(layer, \"convnet_layer\")\n",
    "    \n",
    "    # \n",
    "    k_height, k_width = pool_ksize\n",
    "    k_size = [1, k_height, k_width, 1]\n",
    "    \n",
    "    #\n",
    "    s_height, s_width = pool_strides\n",
    "    strides = [1, s_height, s_width, 1]\n",
    "    \n",
    "    layer = tf.nn.max_pool(layer, \n",
    "                           k_size, \n",
    "                           strides, \n",
    "                           padding=\"SAME\", \n",
    "                           # data_format='NHWC', \n",
    "                           name=None\n",
    "                          )\n",
    "    \n",
    "    return layer\n",
    "\n",
    "# https://discussions.udacity.com/t/setting-weights-and-biases/228485\n",
    "# I used this discussion to help troubleshoot my \"Incorrect Shape\" error\n",
    "\n",
    "\n",
    "\"\"\"\n",
    "DON'T MODIFY ANYTHING IN THIS CELL THAT IS BELOW THIS LINE\n",
    "\"\"\"\n",
    "tests.test_con_pool(conv2d_maxpool)"
   ]
  },
  {
   "cell_type": "markdown",
   "metadata": {},
   "source": [
    "### Flatten Layer\n",
    "Implement the `flatten` function to change the dimension of `x_tensor` from a 4-D tensor to a 2-D tensor.  The output should be the shape (*Batch Size*, *Flattened Image Size*). Shortcut option: you can use classes from the [TensorFlow Layers](https://www.tensorflow.org/api_docs/python/tf/layers) or [TensorFlow Layers (contrib)](https://www.tensorflow.org/api_guides/python/contrib.layers) packages for this layer. For more of a challenge, only use other TensorFlow packages."
   ]
  },
  {
   "cell_type": "code",
   "execution_count": 28,
   "metadata": {},
   "outputs": [
    {
     "name": "stdout",
     "output_type": "stream",
     "text": [
      "Tests Passed\n"
     ]
    }
   ],
   "source": [
    "def flatten(x_tensor):\n",
    "    \"\"\"\n",
    "    Flatten x_tensor to (Batch Size, Flattened Image Size)\n",
    "    : x_tensor: A tensor of size (Batch Size, ...), where ... are the image dimensions.\n",
    "    : return: A tensor of size (Batch Size, Flattened Image Size).\n",
    "    \"\"\"\n",
    "    # TODO: Implement Function\n",
    "    return tf.contrib.layers.flatten(x_tensor,\n",
    "                                    outputs_collections=None,\n",
    "                                    scope=None)\n",
    "\n",
    "\n",
    "\"\"\"\n",
    "DON'T MODIFY ANYTHING IN THIS CELL THAT IS BELOW THIS LINE\n",
    "\"\"\"\n",
    "tests.test_flatten(flatten)"
   ]
  },
  {
   "cell_type": "markdown",
   "metadata": {},
   "source": [
    "### Fully-Connected Layer\n",
    "Implement the `fully_conn` function to apply a fully connected layer to `x_tensor` with the shape (*Batch Size*, *num_outputs*). Shortcut option: you can use classes from the [TensorFlow Layers](https://www.tensorflow.org/api_docs/python/tf/layers) or [TensorFlow Layers (contrib)](https://www.tensorflow.org/api_guides/python/contrib.layers) packages for this layer. For more of a challenge, only use other TensorFlow packages."
   ]
  },
  {
   "cell_type": "code",
   "execution_count": 29,
   "metadata": {},
   "outputs": [
    {
     "name": "stdout",
     "output_type": "stream",
     "text": [
      "Tests Passed\n"
     ]
    }
   ],
   "source": [
    "def fully_conn(x_tensor, num_outputs):\n",
    "    \"\"\"\n",
    "    Apply a fully connected layer to x_tensor using weight and bias\n",
    "    : x_tensor: A 2-D tensor where the first dimension is batch size.\n",
    "    : num_outputs: The number of output that the new tensor should be.\n",
    "    : return: A 2-D tensor where the second dimension is num_outputs.\n",
    "    \"\"\"\n",
    "    # TODO: Implement Function\n",
    "    return tf.contrib.layers.fully_connected(x_tensor,\n",
    "                                            num_outputs,\n",
    "                                            activation_fn=None)\n",
    "\n",
    "\n",
    "\"\"\"\n",
    "DON'T MODIFY ANYTHING IN THIS CELL THAT IS BELOW THIS LINE\n",
    "\"\"\"\n",
    "tests.test_fully_conn(fully_conn)"
   ]
  },
  {
   "cell_type": "markdown",
   "metadata": {},
   "source": [
    "### Output Layer\n",
    "Implement the `output` function to apply a fully connected layer to `x_tensor` with the shape (*Batch Size*, *num_outputs*). Shortcut option: you can use classes from the [TensorFlow Layers](https://www.tensorflow.org/api_docs/python/tf/layers) or [TensorFlow Layers (contrib)](https://www.tensorflow.org/api_guides/python/contrib.layers) packages for this layer. For more of a challenge, only use other TensorFlow packages.\n",
    "\n",
    "**Note:** Activation, softmax, or cross entropy should **not** be applied to this."
   ]
  },
  {
   "cell_type": "code",
   "execution_count": 30,
   "metadata": {},
   "outputs": [
    {
     "name": "stdout",
     "output_type": "stream",
     "text": [
      "Tests Passed\n"
     ]
    }
   ],
   "source": [
    "def output(x_tensor, num_outputs):\n",
    "    \"\"\"\n",
    "    Apply a output layer to x_tensor using weight and bias\n",
    "    : x_tensor: A 2-D tensor where the first dimension is batch size.\n",
    "    : num_outputs: The number of output that the new tensor should be.\n",
    "    : return: A 2-D tensor where the second dimension is num_outputs.\n",
    "    \"\"\"\n",
    "    # TODO: Implement Function\n",
    "    return tf.contrib.layers.fully_connected(x_tensor,\n",
    "                                            num_outputs,\n",
    "                                            activation_fn=None)\n",
    "\n",
    "\n",
    "\"\"\"\n",
    "DON'T MODIFY ANYTHING IN THIS CELL THAT IS BELOW THIS LINE\n",
    "\"\"\"\n",
    "tests.test_output(output)"
   ]
  },
  {
   "cell_type": "markdown",
   "metadata": {},
   "source": [
    "### Create Convolutional Model\n",
    "Implement the function `conv_net` to create a convolutional neural network model. The function takes in a batch of images, `x`, and outputs logits.  Use the layers you created above to create this model:\n",
    "\n",
    "* Apply 1, 2, or 3 Convolution and Max Pool layers\n",
    "* Apply a Flatten Layer\n",
    "* Apply 1, 2, or 3 Fully Connected Layers\n",
    "* Apply an Output Layer\n",
    "* Return the output\n",
    "* Apply [TensorFlow's Dropout](https://www.tensorflow.org/api_docs/python/tf/nn/dropout) to one or more layers in the model using `keep_prob`. "
   ]
  },
  {
   "cell_type": "code",
   "execution_count": 41,
   "metadata": {},
   "outputs": [
    {
     "name": "stdout",
     "output_type": "stream",
     "text": [
      "Neural Network Built!\n"
     ]
    }
   ],
   "source": [
    "def conv_net(x, keep_prob):\n",
    "    \"\"\"\n",
    "    Create a convolutional neural network model\n",
    "    : x: Placeholder tensor that holds image data.\n",
    "    : keep_prob: Placeholder tensor that hold dropout keep probability.\n",
    "    : return: Tensor that represents logits\n",
    "    \"\"\"\n",
    "    # TODO: Apply 1, 2, or 3 Convolution and Max Pool layers\n",
    "    #    Play around with different number of outputs, kernel size and stride\n",
    "    # Function Definition from Above:\n",
    "    # conv2d_maxpool(x_tensor, conv_num_outputs, conv_ksize, conv_strides, pool_ksize, pool_strides)\n",
    "    neural_net = conv2d_maxpool(x, 16, [4, 4], [1, 1], [2, 2], [1,1])\n",
    "    \n",
    "\n",
    "    # TODO: Apply a Flatten Layer\n",
    "    # Function Definition from Above:\n",
    "    neural_net = flatten(neural_net)\n",
    "    \n",
    "\n",
    "    # TODO: Apply 1, 2, or 3 Fully Connected Layers\n",
    "    #    Play around with different number of outputs\n",
    "    # Function Definition from Above:\n",
    "    \n",
    "    # First Fully Connected Layer\n",
    "    neural_net = fully_conn(neural_net, 256)\n",
    "    \n",
    "    # Second Fully Connected Layer\n",
    "    neural_net = fully_conn(neural_net, 256)\n",
    "    \n",
    "    # Dropout Layer\n",
    "    neural_net = tf.nn.dropout(neural_net, keep_prob=0.75)\n",
    "    \n",
    "    # TODO: Apply an Output Layer\n",
    "    #    Set this to the number of classes\n",
    "    # Function Definition from Above:\n",
    "    neural_net = output(neural_net, 10)\n",
    "    \n",
    "    # TODO: return output\n",
    "    return neural_net\n",
    "\n",
    "    # https://discussions.udacity.com/t/question-about-net-work/227912\n",
    "    # I used this discussion to help fiture out why I was getting the\n",
    "    # error: Incorrect Model Output. Found [None, 120]\n",
    "\n",
    "\n",
    "\"\"\"\n",
    "DON'T MODIFY ANYTHING IN THIS CELL THAT IS BELOW THIS LINE\n",
    "\"\"\"\n",
    "\n",
    "##############################\n",
    "## Build the Neural Network ##\n",
    "##############################\n",
    "\n",
    "# Remove previous weights, bias, inputs, etc..\n",
    "tf.reset_default_graph()\n",
    "\n",
    "# Inputs\n",
    "x = neural_net_image_input((32, 32, 3))\n",
    "y = neural_net_label_input(10)\n",
    "keep_prob = neural_net_keep_prob_input()\n",
    "\n",
    "# Model\n",
    "logits = conv_net(x, keep_prob)\n",
    "\n",
    "# Name logits Tensor, so that is can be loaded from disk after training\n",
    "logits = tf.identity(logits, name='logits')\n",
    "\n",
    "# Loss and Optimizer\n",
    "cost = tf.reduce_mean(tf.nn.softmax_cross_entropy_with_logits(logits=logits, labels=y))\n",
    "optimizer = tf.train.AdamOptimizer().minimize(cost)\n",
    "\n",
    "# Accuracy\n",
    "correct_pred = tf.equal(tf.argmax(logits, 1), tf.argmax(y, 1))\n",
    "accuracy = tf.reduce_mean(tf.cast(correct_pred, tf.float32), name='accuracy')\n",
    "\n",
    "tests.test_conv_net(conv_net)"
   ]
  },
  {
   "cell_type": "markdown",
   "metadata": {},
   "source": [
    "## Train the Neural Network\n",
    "### Single Optimization\n",
    "Implement the function `train_neural_network` to do a single optimization.  The optimization should use `optimizer` to optimize in `session` with a `feed_dict` of the following:\n",
    "* `x` for image input\n",
    "* `y` for labels\n",
    "* `keep_prob` for keep probability for dropout\n",
    "\n",
    "This function will be called for each batch, so `tf.global_variables_initializer()` has already been called.\n",
    "\n",
    "Note: Nothing needs to be returned. This function is only optimizing the neural network."
   ]
  },
  {
   "cell_type": "code",
   "execution_count": 42,
   "metadata": {},
   "outputs": [
    {
     "name": "stdout",
     "output_type": "stream",
     "text": [
      "Tests Passed\n"
     ]
    }
   ],
   "source": [
    "def train_neural_network(session, optimizer, keep_probability, feature_batch, label_batch):\n",
    "    \"\"\"\n",
    "    Optimize the session on a batch of images and labels\n",
    "    : session: Current TensorFlow session\n",
    "    : optimizer: TensorFlow optimizer function\n",
    "    : keep_probability: keep probability\n",
    "    : feature_batch: Batch of Numpy image data\n",
    "    : label_batch: Batch of Numpy label data\n",
    "    \"\"\"\n",
    "    # TODO: Implement Function\n",
    "    session.run([optimizer], feed_dict={x: feature_batch, y: label_batch, keep_prob: keep_probability})\n",
    "    pass\n",
    "\n",
    "\n",
    "\"\"\"\n",
    "DON'T MODIFY ANYTHING IN THIS CELL THAT IS BELOW THIS LINE\n",
    "\"\"\"\n",
    "tests.test_train_nn(train_neural_network)"
   ]
  },
  {
   "cell_type": "markdown",
   "metadata": {},
   "source": [
    "### Show Stats\n",
    "Implement the function `print_stats` to print loss and validation accuracy.  Use the global variables `valid_features` and `valid_labels` to calculate validation accuracy.  Use a keep probability of `1.0` to calculate the loss and validation accuracy."
   ]
  },
  {
   "cell_type": "code",
   "execution_count": 43,
   "metadata": {
    "collapsed": true
   },
   "outputs": [],
   "source": [
    "def print_stats(session, feature_batch, label_batch, cost, accuracy):\n",
    "    \"\"\"\n",
    "    Print information about loss and validation accuracy\n",
    "    : session: Current TensorFlow session\n",
    "    : feature_batch: Batch of Numpy image data\n",
    "    : label_batch: Batch of Numpy label data\n",
    "    : cost: TensorFlow cost function\n",
    "    : accuracy: TensorFlow accuracy function\n",
    "    \"\"\"\n",
    "    # TODO: Implement Function\n",
    "    # Calculate batch loss and accuracy\n",
    "    loss = sess.run(cost, feed_dict={\n",
    "        x: feature_batch,\n",
    "        y: label_batch,\n",
    "        keep_prob: 1.})\n",
    "    valid_acc = sess.run(accuracy, feed_dict={\n",
    "        x: valid_features,\n",
    "        y: valid_labels,\n",
    "        keep_prob: 1.})\n",
    "    print('loss:', loss, 'accuracy:', valid_acc)\n",
    "    pass"
   ]
  },
  {
   "cell_type": "markdown",
   "metadata": {},
   "source": [
    "### Hyperparameters\n",
    "Tune the following parameters:\n",
    "* Set `epochs` to the number of iterations until the network stops learning or start overfitting\n",
    "* Set `batch_size` to the highest number that your machine has memory for.  Most people set them to common sizes of memory:\n",
    " * 64\n",
    " * 128\n",
    " * 256\n",
    " * ...\n",
    "* Set `keep_probability` to the probability of keeping a node using dropout"
   ]
  },
  {
   "cell_type": "code",
   "execution_count": 47,
   "metadata": {
    "collapsed": true
   },
   "outputs": [],
   "source": [
    "# TODO: Tune Parameters\n",
    "epochs = 25\n",
    "batch_size = 250\n",
    "keep_probability = 0.75"
   ]
  },
  {
   "cell_type": "markdown",
   "metadata": {},
   "source": [
    "### Train on a Single CIFAR-10 Batch\n",
    "Instead of training the neural network on all the CIFAR-10 batches of data, let's use a single batch. This should save time while you iterate on the model to get a better accuracy.  Once the final validation accuracy is 50% or greater, run the model on all the data in the next section."
   ]
  },
  {
   "cell_type": "code",
   "execution_count": 48,
   "metadata": {},
   "outputs": [
    {
     "name": "stdout",
     "output_type": "stream",
     "text": [
      "Checking the Training on a Single Batch...\n",
      "Epoch  1, CIFAR-10 Batch 1:  loss: 2.14106 accuracy: 0.229\n",
      "Epoch  2, CIFAR-10 Batch 1:  loss: 1.77614 accuracy: 0.3734\n",
      "Epoch  3, CIFAR-10 Batch 1:  loss: 1.55886 accuracy: 0.4628\n",
      "Epoch  4, CIFAR-10 Batch 1:  loss: 1.38133 accuracy: 0.4866\n",
      "Epoch  5, CIFAR-10 Batch 1:  loss: 1.22456 accuracy: 0.5026\n",
      "Epoch  6, CIFAR-10 Batch 1:  loss: 1.15489 accuracy: 0.5074\n",
      "Epoch  7, CIFAR-10 Batch 1:  loss: 1.09416 accuracy: 0.5042\n",
      "Epoch  8, CIFAR-10 Batch 1:  loss: 0.95718 accuracy: 0.5136\n",
      "Epoch  9, CIFAR-10 Batch 1:  loss: 0.931907 accuracy: 0.5062\n",
      "Epoch 10, CIFAR-10 Batch 1:  loss: 0.84539 accuracy: 0.5088\n",
      "Epoch 11, CIFAR-10 Batch 1:  loss: 0.797209 accuracy: 0.4936\n",
      "Epoch 12, CIFAR-10 Batch 1:  loss: 0.783743 accuracy: 0.48\n",
      "Epoch 13, CIFAR-10 Batch 1:  loss: 0.640796 accuracy: 0.4986\n",
      "Epoch 14, CIFAR-10 Batch 1:  loss: 0.646357 accuracy: 0.498\n",
      "Epoch 15, CIFAR-10 Batch 1:  loss: 0.589168 accuracy: 0.5052\n",
      "Epoch 16, CIFAR-10 Batch 1:  loss: 0.52838 accuracy: 0.51\n",
      "Epoch 17, CIFAR-10 Batch 1:  loss: 0.469816 accuracy: 0.4994\n",
      "Epoch 18, CIFAR-10 Batch 1:  loss: 0.457207 accuracy: 0.495\n",
      "Epoch 19, CIFAR-10 Batch 1:  loss: 0.423421 accuracy: 0.4664\n",
      "Epoch 20, CIFAR-10 Batch 1:  loss: 0.33372 accuracy: 0.4858\n",
      "Epoch 21, CIFAR-10 Batch 1:  loss: 0.347238 accuracy: 0.4946\n",
      "Epoch 22, CIFAR-10 Batch 1:  loss: 0.363181 accuracy: 0.4742\n",
      "Epoch 23, CIFAR-10 Batch 1:  loss: 0.331999 accuracy: 0.4914\n",
      "Epoch 24, CIFAR-10 Batch 1:  loss: 0.383473 accuracy: 0.472\n",
      "Epoch 25, CIFAR-10 Batch 1:  loss: 0.265407 accuracy: 0.467\n"
     ]
    }
   ],
   "source": [
    "\"\"\"\n",
    "DON'T MODIFY ANYTHING IN THIS CELL\n",
    "\"\"\"\n",
    "print('Checking the Training on a Single Batch...')\n",
    "with tf.Session() as sess:\n",
    "    # Initializing the variables\n",
    "    sess.run(tf.global_variables_initializer())\n",
    "    \n",
    "    # Training cycle\n",
    "    for epoch in range(epochs):\n",
    "        batch_i = 1\n",
    "        for batch_features, batch_labels in helper.load_preprocess_training_batch(batch_i, batch_size):\n",
    "            train_neural_network(sess, optimizer, keep_probability, batch_features, batch_labels)\n",
    "        print('Epoch {:>2}, CIFAR-10 Batch {}:  '.format(epoch + 1, batch_i), end='')\n",
    "        print_stats(sess, batch_features, batch_labels, cost, accuracy)"
   ]
  },
  {
   "cell_type": "markdown",
   "metadata": {},
   "source": [
    "### Fully Train the Model\n",
    "Now that you got a good accuracy with a single CIFAR-10 batch, try it with all five batches."
   ]
  },
  {
   "cell_type": "code",
   "execution_count": 49,
   "metadata": {},
   "outputs": [
    {
     "name": "stdout",
     "output_type": "stream",
     "text": [
      "Training...\n",
      "Epoch  1, CIFAR-10 Batch 1:  loss: 2.03869 accuracy: 0.2964\n",
      "Epoch  1, CIFAR-10 Batch 2:  loss: 1.61775 accuracy: 0.4112\n",
      "Epoch  1, CIFAR-10 Batch 3:  loss: 1.39163 accuracy: 0.4494\n",
      "Epoch  1, CIFAR-10 Batch 4:  loss: 1.47735 accuracy: 0.4824\n",
      "Epoch  1, CIFAR-10 Batch 5:  loss: 1.36346 accuracy: 0.4922\n",
      "Epoch  2, CIFAR-10 Batch 1:  loss: 1.38978 accuracy: 0.515\n",
      "Epoch  2, CIFAR-10 Batch 2:  loss: 1.25274 accuracy: 0.5182\n",
      "Epoch  2, CIFAR-10 Batch 3:  loss: 1.18129 accuracy: 0.5306\n",
      "Epoch  2, CIFAR-10 Batch 4:  loss: 1.23442 accuracy: 0.5286\n",
      "Epoch  2, CIFAR-10 Batch 5:  loss: 1.20221 accuracy: 0.546\n",
      "Epoch  3, CIFAR-10 Batch 1:  loss: 1.23826 accuracy: 0.5476\n",
      "Epoch  3, CIFAR-10 Batch 2:  loss: 1.10878 accuracy: 0.5462\n",
      "Epoch  3, CIFAR-10 Batch 3:  loss: 1.06233 accuracy: 0.558\n",
      "Epoch  3, CIFAR-10 Batch 4:  loss: 1.16852 accuracy: 0.5508\n",
      "Epoch  3, CIFAR-10 Batch 5:  loss: 1.06845 accuracy: 0.559\n",
      "Epoch  4, CIFAR-10 Batch 1:  loss: 1.15792 accuracy: 0.568\n",
      "Epoch  4, CIFAR-10 Batch 2:  loss: 1.02794 accuracy: 0.549\n",
      "Epoch  4, CIFAR-10 Batch 3:  loss: 0.980279 accuracy: 0.5676\n",
      "Epoch  4, CIFAR-10 Batch 4:  loss: 1.09403 accuracy: 0.5618\n",
      "Epoch  4, CIFAR-10 Batch 5:  loss: 1.02381 accuracy: 0.576\n",
      "Epoch  5, CIFAR-10 Batch 1:  loss: 1.07088 accuracy: 0.5704\n",
      "Epoch  5, CIFAR-10 Batch 2:  loss: 0.925433 accuracy: 0.5666\n",
      "Epoch  5, CIFAR-10 Batch 3:  loss: 0.911804 accuracy: 0.5688\n",
      "Epoch  5, CIFAR-10 Batch 4:  loss: 1.04408 accuracy: 0.571\n",
      "Epoch  5, CIFAR-10 Batch 5:  loss: 0.928688 accuracy: 0.5756\n",
      "Epoch  6, CIFAR-10 Batch 1:  loss: 1.03276 accuracy: 0.572\n",
      "Epoch  6, CIFAR-10 Batch 2:  loss: 0.895769 accuracy: 0.5646\n",
      "Epoch  6, CIFAR-10 Batch 3:  loss: 0.853589 accuracy: 0.5842\n",
      "Epoch  6, CIFAR-10 Batch 4:  loss: 0.980748 accuracy: 0.5706\n",
      "Epoch  6, CIFAR-10 Batch 5:  loss: 0.896526 accuracy: 0.5674\n",
      "Epoch  7, CIFAR-10 Batch 1:  loss: 0.958609 accuracy: 0.5466\n",
      "Epoch  7, CIFAR-10 Batch 2:  loss: 0.865957 accuracy: 0.5824\n",
      "Epoch  7, CIFAR-10 Batch 3:  loss: 0.805763 accuracy: 0.579\n",
      "Epoch  7, CIFAR-10 Batch 4:  loss: 0.983979 accuracy: 0.5704\n",
      "Epoch  7, CIFAR-10 Batch 5:  loss: 0.83645 accuracy: 0.5798\n",
      "Epoch  8, CIFAR-10 Batch 1:  loss: 0.880029 accuracy: 0.5458\n",
      "Epoch  8, CIFAR-10 Batch 2:  loss: 0.826568 accuracy: 0.5782\n",
      "Epoch  8, CIFAR-10 Batch 3:  loss: 0.779149 accuracy: 0.5684\n",
      "Epoch  8, CIFAR-10 Batch 4:  loss: 0.904223 accuracy: 0.5676\n",
      "Epoch  8, CIFAR-10 Batch 5:  loss: 0.851884 accuracy: 0.58\n",
      "Epoch  9, CIFAR-10 Batch 1:  loss: 0.822328 accuracy: 0.544\n",
      "Epoch  9, CIFAR-10 Batch 2:  loss: 0.767503 accuracy: 0.5698\n",
      "Epoch  9, CIFAR-10 Batch 3:  loss: 0.75184 accuracy: 0.5828\n",
      "Epoch  9, CIFAR-10 Batch 4:  loss: 0.90769 accuracy: 0.5522\n",
      "Epoch  9, CIFAR-10 Batch 5:  loss: 0.817588 accuracy: 0.57\n",
      "Epoch 10, CIFAR-10 Batch 1:  loss: 0.764368 accuracy: 0.5652\n",
      "Epoch 10, CIFAR-10 Batch 2:  loss: 0.697313 accuracy: 0.5738\n",
      "Epoch 10, CIFAR-10 Batch 3:  loss: 0.741558 accuracy: 0.5782\n",
      "Epoch 10, CIFAR-10 Batch 4:  loss: 0.886503 accuracy: 0.551\n",
      "Epoch 10, CIFAR-10 Batch 5:  loss: 0.741109 accuracy: 0.5698\n",
      "Epoch 11, CIFAR-10 Batch 1:  loss: 0.732665 accuracy: 0.5646\n",
      "Epoch 11, CIFAR-10 Batch 2:  loss: 0.718727 accuracy: 0.564\n",
      "Epoch 11, CIFAR-10 Batch 3:  loss: 0.679295 accuracy: 0.585\n",
      "Epoch 11, CIFAR-10 Batch 4:  loss: 0.777349 accuracy: 0.5458\n",
      "Epoch 11, CIFAR-10 Batch 5:  loss: 0.73995 accuracy: 0.5642\n",
      "Epoch 12, CIFAR-10 Batch 1:  loss: 0.656618 accuracy: 0.567\n",
      "Epoch 12, CIFAR-10 Batch 2:  loss: 0.669816 accuracy: 0.56\n",
      "Epoch 12, CIFAR-10 Batch 3:  loss: 0.648427 accuracy: 0.5706\n",
      "Epoch 12, CIFAR-10 Batch 4:  loss: 0.852379 accuracy: 0.5022\n",
      "Epoch 12, CIFAR-10 Batch 5:  loss: 0.674671 accuracy: 0.5674\n",
      "Epoch 13, CIFAR-10 Batch 1:  loss: 0.645288 accuracy: 0.5628\n",
      "Epoch 13, CIFAR-10 Batch 2:  loss: 0.724853 accuracy: 0.5474\n",
      "Epoch 13, CIFAR-10 Batch 3:  loss: 0.640568 accuracy: 0.556\n",
      "Epoch 13, CIFAR-10 Batch 4:  loss: 0.735847 accuracy: 0.5038\n",
      "Epoch 13, CIFAR-10 Batch 5:  loss: 0.72745 accuracy: 0.5556\n",
      "Epoch 14, CIFAR-10 Batch 1:  loss: 0.618538 accuracy: 0.561\n",
      "Epoch 14, CIFAR-10 Batch 2:  loss: 0.686289 accuracy: 0.5582\n",
      "Epoch 14, CIFAR-10 Batch 3:  loss: 0.598547 accuracy: 0.5672\n",
      "Epoch 14, CIFAR-10 Batch 4:  loss: 0.613246 accuracy: 0.5152\n",
      "Epoch 14, CIFAR-10 Batch 5:  loss: 0.653551 accuracy: 0.5606\n",
      "Epoch 15, CIFAR-10 Batch 1:  loss: 0.600139 accuracy: 0.5402\n",
      "Epoch 15, CIFAR-10 Batch 2:  loss: 0.713142 accuracy: 0.549\n",
      "Epoch 15, CIFAR-10 Batch 3:  loss: 0.641013 accuracy: 0.5434\n",
      "Epoch 15, CIFAR-10 Batch 4:  loss: 0.670839 accuracy: 0.5102\n",
      "Epoch 15, CIFAR-10 Batch 5:  loss: 0.66895 accuracy: 0.559\n",
      "Epoch 16, CIFAR-10 Batch 1:  loss: 0.597414 accuracy: 0.5412\n",
      "Epoch 16, CIFAR-10 Batch 2:  loss: 0.717799 accuracy: 0.5436\n",
      "Epoch 16, CIFAR-10 Batch 3:  loss: 0.647952 accuracy: 0.5424\n",
      "Epoch 16, CIFAR-10 Batch 4:  loss: 0.659967 accuracy: 0.5342\n",
      "Epoch 16, CIFAR-10 Batch 5:  loss: 0.611749 accuracy: 0.5542\n",
      "Epoch 17, CIFAR-10 Batch 1:  loss: 0.571708 accuracy: 0.5386\n",
      "Epoch 17, CIFAR-10 Batch 2:  loss: 0.620421 accuracy: 0.5532\n",
      "Epoch 17, CIFAR-10 Batch 3:  loss: 0.664851 accuracy: 0.5284\n",
      "Epoch 17, CIFAR-10 Batch 4:  loss: 0.658097 accuracy: 0.5128\n",
      "Epoch 17, CIFAR-10 Batch 5:  loss: 0.555809 accuracy: 0.5564\n",
      "Epoch 18, CIFAR-10 Batch 1:  loss: 0.554623 accuracy: 0.5476\n",
      "Epoch 18, CIFAR-10 Batch 2:  loss: 0.646904 accuracy: 0.541\n",
      "Epoch 18, CIFAR-10 Batch 3:  loss: 0.593587 accuracy: 0.5392\n",
      "Epoch 18, CIFAR-10 Batch 4:  loss: 0.6168 accuracy: 0.521\n",
      "Epoch 18, CIFAR-10 Batch 5:  loss: 0.611796 accuracy: 0.5358\n",
      "Epoch 19, CIFAR-10 Batch 1:  loss: 0.553541 accuracy: 0.5442\n",
      "Epoch 19, CIFAR-10 Batch 2:  loss: 0.640979 accuracy: 0.517\n",
      "Epoch 19, CIFAR-10 Batch 3:  loss: 0.55908 accuracy: 0.5588\n",
      "Epoch 19, CIFAR-10 Batch 4:  loss: 0.599586 accuracy: 0.5266\n",
      "Epoch 19, CIFAR-10 Batch 5:  loss: 0.537011 accuracy: 0.5416\n",
      "Epoch 20, CIFAR-10 Batch 1:  loss: 0.53783 accuracy: 0.5218\n",
      "Epoch 20, CIFAR-10 Batch 2:  loss: 0.681025 accuracy: 0.5148\n",
      "Epoch 20, CIFAR-10 Batch 3:  loss: 0.54766 accuracy: 0.55\n",
      "Epoch 20, CIFAR-10 Batch 4:  loss: 0.522555 accuracy: 0.5294\n",
      "Epoch 20, CIFAR-10 Batch 5:  loss: 0.54427 accuracy: 0.5354\n",
      "Epoch 21, CIFAR-10 Batch 1:  loss: 0.457174 accuracy: 0.5314\n",
      "Epoch 21, CIFAR-10 Batch 2:  loss: 0.599967 accuracy: 0.5322\n",
      "Epoch 21, CIFAR-10 Batch 3:  loss: 0.571011 accuracy: 0.5528\n",
      "Epoch 21, CIFAR-10 Batch 4:  loss: 0.592471 accuracy: 0.5244\n",
      "Epoch 21, CIFAR-10 Batch 5:  loss: 0.519723 accuracy: 0.5154\n",
      "Epoch 22, CIFAR-10 Batch 1:  loss: 0.464996 accuracy: 0.5306\n",
      "Epoch 22, CIFAR-10 Batch 2:  loss: 0.616182 accuracy: 0.5416\n",
      "Epoch 22, CIFAR-10 Batch 3:  loss: 0.648043 accuracy: 0.54\n",
      "Epoch 22, CIFAR-10 Batch 4:  loss: 0.597868 accuracy: 0.5304\n",
      "Epoch 22, CIFAR-10 Batch 5:  loss: 0.545746 accuracy: 0.5226\n",
      "Epoch 23, CIFAR-10 Batch 1:  loss: 0.527921 accuracy: 0.526\n",
      "Epoch 23, CIFAR-10 Batch 2:  loss: 0.673455 accuracy: 0.5394\n",
      "Epoch 23, CIFAR-10 Batch 3:  loss: 0.609936 accuracy: 0.527\n",
      "Epoch 23, CIFAR-10 Batch 4:  loss: 0.525194 accuracy: 0.5436\n",
      "Epoch 23, CIFAR-10 Batch 5:  loss: 0.444477 accuracy: 0.5222\n",
      "Epoch 24, CIFAR-10 Batch 1:  loss: 0.444897 accuracy: 0.5304\n",
      "Epoch 24, CIFAR-10 Batch 2:  loss: 0.562198 accuracy: 0.5388\n",
      "Epoch 24, CIFAR-10 Batch 3:  loss: 0.564287 accuracy: 0.5214\n",
      "Epoch 24, CIFAR-10 Batch 4:  loss: 0.489047 accuracy: 0.5322\n",
      "Epoch 24, CIFAR-10 Batch 5:  loss: 0.421906 accuracy: 0.516\n",
      "Epoch 25, CIFAR-10 Batch 1:  loss: 0.486526 accuracy: 0.4952\n",
      "Epoch 25, CIFAR-10 Batch 2:  loss: 0.529945 accuracy: 0.5388\n",
      "Epoch 25, CIFAR-10 Batch 3:  loss: 0.568026 accuracy: 0.5158\n",
      "Epoch 25, CIFAR-10 Batch 4:  loss: 0.558817 accuracy: 0.5082\n",
      "Epoch 25, CIFAR-10 Batch 5:  loss: 0.404583 accuracy: 0.5446\n"
     ]
    }
   ],
   "source": [
    "\"\"\"\n",
    "DON'T MODIFY ANYTHING IN THIS CELL\n",
    "\"\"\"\n",
    "save_model_path = './image_classification'\n",
    "\n",
    "print('Training...')\n",
    "with tf.Session() as sess:\n",
    "    # Initializing the variables\n",
    "    sess.run(tf.global_variables_initializer())\n",
    "    \n",
    "    # Training cycle\n",
    "    for epoch in range(epochs):\n",
    "        # Loop over all batches\n",
    "        n_batches = 5\n",
    "        for batch_i in range(1, n_batches + 1):\n",
    "            for batch_features, batch_labels in helper.load_preprocess_training_batch(batch_i, batch_size):\n",
    "                train_neural_network(sess, optimizer, keep_probability, batch_features, batch_labels)\n",
    "            print('Epoch {:>2}, CIFAR-10 Batch {}:  '.format(epoch + 1, batch_i), end='')\n",
    "            print_stats(sess, batch_features, batch_labels, cost, accuracy)\n",
    "            \n",
    "    # Save Model\n",
    "    saver = tf.train.Saver()\n",
    "    save_path = saver.save(sess, save_model_path)"
   ]
  },
  {
   "cell_type": "markdown",
   "metadata": {},
   "source": [
    "# Checkpoint\n",
    "The model has been saved to disk.\n",
    "## Test Model\n",
    "Test your model against the test dataset.  This will be your final accuracy. You should have an accuracy greater than 50%. If you don't, keep tweaking the model architecture and parameters."
   ]
  },
  {
   "cell_type": "code",
   "execution_count": 50,
   "metadata": {},
   "outputs": [
    {
     "name": "stdout",
     "output_type": "stream",
     "text": [
      "INFO:tensorflow:Restoring parameters from ./image_classification\n",
      "Testing Accuracy: 0.5462000012397766\n",
      "\n"
     ]
    },
    {
     "data": {
      "image/png": "[encoded data removed]",
      "text/plain": [
       "<matplotlib.figure.Figure at 0x109c82278>"
      ]
     },
     "metadata": {
      "image/png": {
       "height": 319,
       "width": 355
      }
     },
     "output_type": "display_data"
    }
   ],
   "source": [
    "\"\"\"\n",
    "DON'T MODIFY ANYTHING IN THIS CELL\n",
    "\"\"\"\n",
    "%matplotlib inline\n",
    "%config InlineBackend.figure_format = 'retina'\n",
    "\n",
    "import tensorflow as tf\n",
    "import pickle\n",
    "import helper\n",
    "import random\n",
    "\n",
    "# Set batch size if not already set\n",
    "try:\n",
    "    if batch_size:\n",
    "        pass\n",
    "except NameError:\n",
    "    batch_size = 64\n",
    "\n",
    "save_model_path = './image_classification'\n",
    "n_samples = 4\n",
    "top_n_predictions = 3\n",
    "\n",
    "def test_model():\n",
    "    \"\"\"\n",
    "    Test the saved model against the test dataset\n",
    "    \"\"\"\n",
    "\n",
    "    test_features, test_labels = pickle.load(open('preprocess_test.p', mode='rb'))\n",
    "    loaded_graph = tf.Graph()\n",
    "\n",
    "    with tf.Session(graph=loaded_graph) as sess:\n",
    "        # Load model\n",
    "        loader = tf.train.import_meta_graph(save_model_path + '.meta')\n",
    "        loader.restore(sess, save_model_path)\n",
    "\n",
    "        # Get Tensors from loaded model\n",
    "        loaded_x = loaded_graph.get_tensor_by_name('x:0')\n",
    "        loaded_y = loaded_graph.get_tensor_by_name('y:0')\n",
    "        loaded_keep_prob = loaded_graph.get_tensor_by_name('keep_prob:0')\n",
    "        loaded_logits = loaded_graph.get_tensor_by_name('logits:0')\n",
    "        loaded_acc = loaded_graph.get_tensor_by_name('accuracy:0')\n",
    "        \n",
    "        # Get accuracy in batches for memory limitations\n",
    "        test_batch_acc_total = 0\n",
    "        test_batch_count = 0\n",
    "        \n",
    "        for test_feature_batch, test_label_batch in helper.batch_features_labels(test_features, test_labels, batch_size):\n",
    "            test_batch_acc_total += sess.run(\n",
    "                loaded_acc,\n",
    "                feed_dict={loaded_x: test_feature_batch, loaded_y: test_label_batch, loaded_keep_prob: 1.0})\n",
    "            test_batch_count += 1\n",
    "\n",
    "        print('Testing Accuracy: {}\\n'.format(test_batch_acc_total/test_batch_count))\n",
    "\n",
    "        # Print Random Samples\n",
    "        random_test_features, random_test_labels = tuple(zip(*random.sample(list(zip(test_features, test_labels)), n_samples)))\n",
    "        random_test_predictions = sess.run(\n",
    "            tf.nn.top_k(tf.nn.softmax(loaded_logits), top_n_predictions),\n",
    "            feed_dict={loaded_x: random_test_features, loaded_y: random_test_labels, loaded_keep_prob: 1.0})\n",
    "        helper.display_image_predictions(random_test_features, random_test_labels, random_test_predictions)\n",
    "\n",
    "\n",
    "test_model()"
   ]
  },
  {
   "cell_type": "markdown",
   "metadata": {},
   "source": [
    "## Why 50-80% Accuracy?\n",
    "You might be wondering why you can't get an accuracy any higher. First things first, 50% isn't bad for a simple CNN.  Pure guessing would get you 10% accuracy. However, you might notice people are getting scores [well above 80%](http://rodrigob.github.io/are_we_there_yet/build/classification_datasets_results.html#43494641522d3130).  That's because we haven't taught you all there is to know about neural networks. We still need to cover a few more techniques.\n",
    "## Submitting This Project\n",
    "When submitting this project, make sure to run all the cells before saving the notebook.  Save the notebook file as \"dlnd_image_classification.ipynb\" and save it as a HTML file under \"File\" -> \"Download as\".  Include the \"helper.py\" and \"problem_unittests.py\" files in your submission."
   ]
  }
 ],
 "metadata": {
  "kernelspec": {
   "display_name": "Python 3",
   "language": "python",
   "name": "python3"
  },
  "language_info": {
   "codemirror_mode": {
    "name": "ipython",
    "version": 3
   },
   "file_extension": ".py",
   "mimetype": "text/x-python",
   "name": "python",
   "nbconvert_exporter": "python",
   "pygments_lexer": "ipython3",
   "version": "3.6.1"
  }
 },
 "nbformat": 4,
 "nbformat_minor": 1
}
